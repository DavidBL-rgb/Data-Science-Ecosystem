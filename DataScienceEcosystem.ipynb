{
 "cells": [
  {
   "cell_type": "markdown",
   "id": "6e92877d-2723-4b3a-8f30-a9e93c51466c",
   "metadata": {},
   "source": [
    "# Data Science Tools and Ecosystem"
   ]
  },
  {
   "cell_type": "markdown",
   "id": "742d9206-6c68-4493-a662-9da524189ffd",
   "metadata": {},
   "source": [
    "In this notebook, Data Science Tools and Ecosystem are summarized."
   ]
  },
  {
   "cell_type": "markdown",
   "id": "056912a6-d4e0-4e7d-9f4d-3ee74a10e051",
   "metadata": {},
   "source": [
    "**Objectives:**\n",
    "+ Languages that Data Scientists\n",
    "+ Libraries used by Data Scientists\n",
    "+ Data Science Tools\n",
    "+ Evaluating arithmetic expressions in Python"
   ]
  },
  {
   "cell_type": "markdown",
   "id": "0c085dee-bf6d-46fa-8c80-ecabc2ae904f",
   "metadata": {},
   "source": [
    "Some of the popular languages that Data Scientists use are:\n",
    "1. Python: Widely regarded as the most popular language for data science due to its simplicity, readability, and extensive libraries for data analysis (e.g., Pandas, NumPy), visualization (e.g., Matplotlib, Seaborn), and machine learning (e.g., scikit-learn, TensorFlow, PyTorch).\n",
    "\n",
    "2. R: Known for its strong statistical analysis capabilities and a wide array of packages for data manipulation, visualization, and statistical modeling (e.g., dplyr, ggplot2, caret). R is especially popular in academia and for tasks involving statistical analysis.\n",
    "\n",
    "3. SQL: Essential for managing and querying large datasets stored in relational databases. Many data science tasks begin with extracting data using SQL, making it a foundational skill for data scientists.\n",
    "\n",
    "4. Julia: Known for its speed and efficiency, especially in numerical and scientific computing. It’s gaining popularity in data science for tasks that require high-performance computing.\n",
    "\n",
    "5. SAS: Traditionally used in industries like healthcare and finance, SAS is a software suite for statistical analysis. It’s especially popular in large organizations with established analytics frameworks.\n",
    "\n",
    "6. Scala: Often used with Apache Spark, a popular big data processing framework. Scala’s compatibility with Spark makes it useful for handling large-scale data processing tasks.\n",
    "\n",
    "7. MATLAB: Common in engineering and scientific research, MATLAB is used for complex mathematical modeling and simulations. It is less common in business data science but remains popular in research settings.\n",
    "\n",
    "8. Java: While not as commonly used as Python or R for data science, Java is sometimes employed for big data processing (e.g., Hadoop) and enterprise-level machine learning applications due to its performance and scalability."
   ]
  },
  {
   "cell_type": "markdown",
   "id": "67279a97-65af-4f99-bde5-966c37d24321",
   "metadata": {},
   "source": [
    "Some of the commonly used libraries used by Data Scientists include:\n",
    "* Python\n",
    "1. Pandas: Essential for data manipulation and analysis, offering data structures and functions to handle structured data easily.\n",
    "2. NumPy: Provides support for large, multi-dimensional arrays and matrices, along with mathematical functions to operate on these arrays.\n",
    "3. Matplotlib & Seaborn: Matplotlib is a core library for data visualization, and Seaborn builds on it to create more sophisticated and aesthetically pleasing statistical graphics.\n",
    "4. scikit-learn: A comprehensive machine learning library that provides tools for classification, regression, clustering, and dimensionality reduction.\n",
    "5. TensorFlow & PyTorch: Leading deep learning frameworks used for building neural networks, with TensorFlow also supporting production deployment.\n",
    "6. NLTK & spaCy: Libraries for natural language processing, including text tokenization, parsing, and sentiment analysis.\n",
    "7. Statsmodels: Useful for statistical analysis, providing functions for statistical tests and estimation of statistical models.\n",
    "* R\n",
    "1. dplyr: A popular package for data manipulation, allowing easy transformation of data frames.\n",
    "2. ggplot2: A versatile package for data visualization based on the \"grammar of graphics,\" widely used for creating detailed and complex plots.\n",
    "3. caret: Provides a unified interface to train and evaluate machine learning models, supporting numerous algorithms.\n",
    "4. tidyr: Complements dplyr for data cleaning and reshaping, useful for handling missing or messy data.\n",
    "5. randomForest: Implementation of the Random Forest algorithm, commonly used for both classification and regression tasks.\n",
    "6. xgboost: An efficient gradient-boosting library used extensively in machine learning competitions.\n",
    "7. Shiny: Enables building interactive web applications directly in R, often used to create dashboards for data science projects.\n",
    "* SQL\n",
    "1. SQLAlchemy (Python): An SQL toolkit and Object-Relational Mapping (ORM) library for managing and querying databases in Python.\n",
    "2. dbplyr (R): Part of the tidyverse, enabling SQL database management in R by providing a dplyr interface for SQL queries.\n",
    "* Big Data & Cloud Tools\n",
    "1. Apache Spark (PySpark for Python, sparklyr for R): A distributed computing framework popular for big data processing and machine learning.\n",
    "2. Hadoop: An ecosystem for big data storage and processing, with libraries for map-reduce and data storage (HDFS).\n",
    "AWS SageMaker, Google Cloud ML, and Azure ML: Cloud-based platforms that offer end-to-end machine learning tools, from data preparation to model training and deployment.\n",
    "   "
   ]
  },
  {
   "cell_type": "markdown",
   "id": "ca577e52-a7b7-4be5-8ae3-42bfbdd1e703",
   "metadata": {},
   "source": [
    "|Data Science Tools|\n",
    "|------------------|\n",
    "|Jupyter Notebook|\n",
    "|RStudio|\n",
    "|Visual Studio Code|"
   ]
  },
  {
   "cell_type": "markdown",
   "id": "60661f83-bdae-406d-8726-cac24f21983d",
   "metadata": {},
   "source": [
    "### Below are a few examples of evaluating arithmetic expressions in Python"
   ]
  },
  {
   "cell_type": "code",
   "execution_count": 2,
   "id": "6198fc80-0fd4-4177-8c0f-6912189820e2",
   "metadata": {},
   "outputs": [
    {
     "data": {
      "text/plain": [
       "17"
      ]
     },
     "execution_count": 2,
     "metadata": {},
     "output_type": "execute_result"
    }
   ],
   "source": [
    "# This a simple arithmetic expression to mutiply then add integers\n",
    "(3*4)+5"
   ]
  },
  {
   "cell_type": "code",
   "execution_count": 4,
   "id": "ab08e070-ef79-4de1-b752-0900ddbebf09",
   "metadata": {},
   "outputs": [
    {
     "name": "stdout",
     "output_type": "stream",
     "text": [
      "3.33\n"
     ]
    }
   ],
   "source": [
    "# This will convert 200 minutes to hours by diving by 60\n",
    "minutes = 200\n",
    "hours = minutes / 60\n",
    "print(round(hours, 2))"
   ]
  },
  {
   "cell_type": "markdown",
   "id": "b9bca12b-bee6-478b-be3c-106987823294",
   "metadata": {},
   "source": [
    "## Author\n",
    "David Bahamondes Lauri"
   ]
  },
  {
   "cell_type": "code",
   "execution_count": null,
   "id": "7b85c79a-f6aa-4e6a-bac3-f28e32f895ee",
   "metadata": {},
   "outputs": [],
   "source": []
  }
 ],
 "metadata": {
  "kernelspec": {
   "display_name": "Python 3 (ipykernel)",
   "language": "python",
   "name": "python3"
  },
  "language_info": {
   "codemirror_mode": {
    "name": "ipython",
    "version": 3
   },
   "file_extension": ".py",
   "mimetype": "text/x-python",
   "name": "python",
   "nbconvert_exporter": "python",
   "pygments_lexer": "ipython3",
   "version": "3.12.7"
  }
 },
 "nbformat": 4,
 "nbformat_minor": 5
}
